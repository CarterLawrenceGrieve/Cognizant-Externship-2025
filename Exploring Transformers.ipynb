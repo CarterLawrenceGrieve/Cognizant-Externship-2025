{
 "cells": [
  {
   "cell_type": "markdown",
   "id": "1c7d2897",
   "metadata": {},
   "source": [
    "# Transformer Text Generation\n"
   ]
  },
  {
   "cell_type": "code",
   "execution_count": 3,
   "id": "6dbce095",
   "metadata": {},
   "outputs": [
    {
     "name": "stderr",
     "output_type": "stream",
     "text": [
      "Device set to use cpu\n",
      "Truncation was not explicitly activated but `max_length` is provided a specific value, please use `truncation=True` to explicitly truncate examples to max length. Defaulting to 'longest_first' truncation strategy. If you encode pairs of sequences (GLUE-style) with the tokenizer you can select this strategy more precisely by providing a specific strategy to `truncation`.\n",
      "Setting `pad_token_id` to `eos_token_id`:50256 for open-end generation.\n",
      "Both `max_new_tokens` (=256) and `max_length`(=50) seem to have been set. `max_new_tokens` will take precedence. Please refer to the documentation for more information. (https://huggingface.co/docs/transformers/main/en/main_classes/text_generation)\n"
     ]
    },
    {
     "name": "stdout",
     "output_type": "stream",
     "text": [
      "In the future, the problems with education will be solved. More than 90 percent of American children are now attending public schools, and the number of children between the ages of 8 and 12 is growing. But the problem is that this is the first time, without a real education, that the state has made a difference. In the last decade, the number of children with disabilities has quadrupled.\n",
      "\n",
      "Education is an issue that has been well addressed now, in the United States. In the last few years, the number of children with disabilities has quadrupled, and the number of children with learning disabilities has not. More than 90 percent of American children are now attending public schools, and the number of children between the ages of 8 and 12 is growing. But the problem is that this is the first time, without a real education, that the state has made a difference. In the last decade, the number of children with disabilities has quadrupled.\n",
      "\n",
      "A study by the National Research Council, which was led by Professor Michael M. Haffner, and the University of Illinois at Urbana-Champaign, found that children with disabilities were more likely than non-disabled children to attend high school or college. More than 6.3 million children with disabilities were under the age of 18, and nearly 3.\n"
     ]
    }
   ],
   "source": [
    "from transformers import pipeline\n",
    "\n",
    "# Load GPT-2 text generation model\n",
    "generator = pipeline('text-generation', model='gpt2')\n",
    "\n",
    "# Set your prompt\n",
    "prompt = 'In the future, the problems with education will be'\n",
    "\n",
    "# Generate text\n",
    "result = generator(prompt, max_length=50, temperature=0.7)\n",
    "print(result[0]['generated_text'])"
   ]
  },
  {
   "cell_type": "code",
   "execution_count": 7,
   "id": "c69a033d",
   "metadata": {},
   "outputs": [
    {
     "name": "stderr",
     "output_type": "stream",
     "text": [
      "Setting `pad_token_id` to `eos_token_id`:50256 for open-end generation.\n",
      "Both `max_new_tokens` (=256) and `max_length`(=50) seem to have been set. `max_new_tokens` will take precedence. Please refer to the documentation for more information. (https://huggingface.co/docs/transformers/main/en/main_classes/text_generation)\n",
      "Setting `pad_token_id` to `eos_token_id`:50256 for open-end generation.\n",
      "Both `max_new_tokens` (=256) and `max_length`(=100) seem to have been set. `max_new_tokens` will take precedence. Please refer to the documentation for more information. (https://huggingface.co/docs/transformers/main/en/main_classes/text_generation)\n"
     ]
    },
    {
     "name": "stdout",
     "output_type": "stream",
     "text": [
      "\"Hey dude, what is up?\"\n",
      "\"Well...I am worried about something.\"\n",
      "\"Alright, good. Let's try something else. I don't know what to do right now. I'm scared of the house. I want to just go to the bathroom to wash up. But I don't know why I'm worried. I'm afraid that tomorrow, we'd never get out of here again. I wanna get into any other place. So...it hasn't been as easy as I thought. Did you see the girl? She's...she's so scared...\"\n",
      "\"Yeah, yeah.\" Ruby sighed.\n",
      "\"I saw the girl. I know she was here after all, but when I first found out, it was because I thought the girls had taken a look at my house. I saw a lot of things...she's been here the whole time.\"\n",
      "\"I see.\" Ruby said.\n",
      "\"Yeah, sure.\"\n",
      "\"Alright, let's go to the bathroom.\"\n",
      "\"Alright.\"\n",
      "Ruby got up and left the house. Her parents and Ruby headed down the walkways, leaving Ruby alone. But Ruby had taken a couple of photos of her parents, including a picture of them sitting at their computer and a picture of her dad. The picture showed him carrying the phone to her in her hand and leaning over\n",
      "\"Hey dude, what is up?\"\n",
      "\"Well...I am worried about something.\"\n",
      "\"I am worried about something.\"\n",
      "\"I am worried about something.\"\n",
      "\"I am worried about something.\"\n",
      "\"I am worried about something.\"\n",
      "\"I am worried about something.\"\n",
      "\"I am worried about something.\"\n",
      "\"I am worried about something.\"\n",
      "\"I am worried about something.\"\n",
      "\"I am worried about something.\"\n",
      "\"I am worried about something.\"\n",
      "\"I am worried about something.\"\n",
      "\"I am worried about something.\"\n",
      "\"I am worried about something.\"\n",
      "\"I am worried about something.\"\n",
      "\"I am worried about something.\"\n",
      "\"I am worried about something.\"\n",
      "\"I am worried about something.\"\n",
      "\"I am worried about something.\"\n",
      "\"I am worried about something.\"\n",
      "\"I am worried about something.\"\n",
      "\"I am worried about something.\"\n",
      "\"I am worried about something.\"\n",
      "\"I am worried about something.\"\n",
      "\"I am worried about something.\"\n",
      "\"I am worried about something.\"\n",
      "\"I am worried about something.\"\n",
      "\"I am worried about something.\"\n",
      "\"I am worried about something.\"\n",
      "\"I am worried about something.\"\n",
      "\"I am worried about something.\"\n",
      "\"I am worried about something.\"\n",
      "\"I am worried about something.\"\n"
     ]
    }
   ],
   "source": [
    "# Experiment with different prompts\n",
    "prompt = '\"Hey dude, what is up?\"\\n\"Well...I am worried about something.\"'\n",
    "result = generator(prompt, max_length=50, temperature=0.9)\n",
    "print(result[0]['generated_text'])\n",
    "\n",
    "prompt = '\"Hey dude, what is up?\"\\n\"Well...I am worried about something.\"'\n",
    "result = generator(prompt, max_length=100, temperature=0.1)\n",
    "print(result[0]['generated_text'])"
   ]
  }
 ],
 "metadata": {
  "kernelspec": {
   "display_name": "Python 3",
   "language": "python",
   "name": "python3"
  },
  "language_info": {
   "codemirror_mode": {
    "name": "ipython",
    "version": 3
   },
   "file_extension": ".py",
   "mimetype": "text/x-python",
   "name": "python",
   "nbconvert_exporter": "python",
   "version": "3.8.8"
  }
 },
 "nbformat": 4,
 "nbformat_minor": 5
}
